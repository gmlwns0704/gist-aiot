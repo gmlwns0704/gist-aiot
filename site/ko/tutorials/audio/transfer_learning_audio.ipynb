{
  "cells": [
    {
      "cell_type": "markdown",
      "metadata": {
        "id": "Cb4espuLKJiA"
      },
      "source": [
        "##### Copyright 2021 The TensorFlow Authors."
      ]
    },
    {
      "cell_type": "code",
      "execution_count": 152,
      "metadata": {
        "cellView": "form",
        "id": "DjZQV2njKJ3U"
      },
      "outputs": [],
      "source": [
        "#@title Licensed under the Apache License, Version 2.0 (the \"License\");\n",
        "# you may not use this file except in compliance with the License.\n",
        "# You may obtain a copy of the License at\n",
        "#\n",
        "# https://www.apache.org/licenses/LICENSE-2.0\n",
        "#\n",
        "# Unless required by applicable law or agreed to in writing, software\n",
        "# distributed under the License is distributed on an \"AS IS\" BASIS,\n",
        "# WITHOUT WARRANTIES OR CONDITIONS OF ANY KIND, either express or implied.\n",
        "# See the License for the specific language governing permissions and\n",
        "# limitations under the License."
      ]
    },
    {
      "cell_type": "markdown",
      "metadata": {
        "id": "mTL0TERThT6z"
      },
      "source": [
        "<table class=\"tfo-notebook-buttons\" align=\"left\">\n",
        "  <td><a target=\"_blank\" href=\"https://www.tensorflow.org/tutorials/audio/transfer_learning_audio\"><img src=\"https://www.tensorflow.org/images/tf_logo_32px.png\">TensorFlow.org에서 보기</a></td>\n",
        "  <td><a target=\"_blank\" href=\"https://colab.research.google.com/github/tensorflow/docs-l10n/blob/master/site/ko/tutorials/audio/transfer_learning_audio.ipynb\"><img src=\"https://www.tensorflow.org/images/colab_logo_32px.png\">Google Colab에서 실행</a></td>\n",
        "  <td><a target=\"_blank\" href=\"https://github.com/tensorflow/docs-l10n/blob/master/site/ko/tutorials/audio/transfer_learning_audio.ipynb\"><img src=\"https://www.tensorflow.org/images/GitHub-Mark-32px.png\">GitHub에서 보기</a></td>\n",
        "  <td><a href=\"https://storage.googleapis.com/tensorflow_docs/docs-l10n/site/ko/tutorials/audio/transfer_learning_audio.ipynb\"><img src=\"https://www.tensorflow.org/images/download_logo_32px.png\">노트북 다운로드</a></td>\n",
        "  <td><a href=\"https://tfhub.dev/google/yamnet/1\"><img src=\"https://www.tensorflow.org/images/hub_logo_32px.png\">TF 허브 모델 보기</a></td>\n",
        "</table>"
      ]
    },
    {
      "cell_type": "markdown",
      "metadata": {
        "id": "K2madPFAGHb3"
      },
      "source": [
        "# 환경 소리 분류를 위한 YAMNet을 사용한 전이 학습\n",
        "\n",
        "[YAMNet](https://tfhub.dev/google/yamnet/1)은 웃음, 짖음 또는 사이렌과 같은 [521개 클래스](https://github.com/tensorflow/models/blob/master/research/audioset/yamnet/yamnet_class_map.csv)의 오디오 이벤트를 예측할 수 있는 사전 훈련된 심층 신경망입니다.\n",
        "\n",
        "이 튜토리얼에서는 다음 방법을 배웁니다.\n",
        "\n",
        "- 추론을 위해 YAMNet 모델을 로드하고 사용합니다.\n",
        "- 고양이와 개 소리를 분류하기 위해 YAMNet 임베딩을 사용하여 새 모델을 빌드합니다.\n",
        "- 모델을 평가하고 내보냅니다.\n"
      ]
    },
    {
      "cell_type": "markdown",
      "metadata": {
        "id": "5Mdp2TpBh96Y"
      },
      "source": [
        "## 텐서플로와 추가 라이브러리 임포트\n"
      ]
    },
    {
      "cell_type": "markdown",
      "metadata": {
        "id": "zCcKYqu_hvKe"
      },
      "source": [
        "디스크에서 오디오 파일을 더 쉽게 로드할 수 있도록 우선 [TensorFlow I/O](https://www.tensorflow.org/io)를 설치합니다."
      ]
    },
    {
      "cell_type": "code",
      "execution_count": 153,
      "metadata": {
        "id": "urBpRWDHTHHU"
      },
      "outputs": [],
      "source": [
        "!pip install -q \"tensorflow==2.11.*\"\n",
        "# tensorflow_io 0.28 is compatible with TensorFlow 2.11\n",
        "!pip install -q \"tensorflow_io==0.28.*\""
      ]
    },
    {
      "cell_type": "code",
      "execution_count": 154,
      "metadata": {
        "id": "7l3nqdWVF-kC"
      },
      "outputs": [],
      "source": [
        "import os\n",
        "\n",
        "from IPython import display\n",
        "import matplotlib.pyplot as plt\n",
        "import numpy as np\n",
        "import pandas as pd\n",
        "\n",
        "import tensorflow as tf\n",
        "import tensorflow_hub as hub\n",
        "import tensorflow_io as tfio"
      ]
    },
    {
      "cell_type": "markdown",
      "metadata": {
        "id": "v9ZhybCnt_bM"
      },
      "source": [
        "## YAMNet 소개\n",
        "\n",
        "[YAMNet](https://github.com/tensorflow/models/tree/master/research/audioset/yamnet)은 [MobileNetV1](https://arxiv.org/abs/1704.04861) 깊이별 분리 가능한 콘볼루션 아키텍처를 사용하는 사전 훈련된 신경망으로, 오디오 파형을 입력으로 사용하고 [AudioSet](http://g.co/audioset) 말뭉치에서 521개의 오디오 이벤트 각각에 대해 독립적인 예측을 수행할 수 있습니다.\n",
        "\n",
        "내부적으로, 이 모델은 오디오 신호로부터 \"프레임\"을 추출하고 이러한 프레임을 일괄 처리합니다. 이 버전의 모델은 0.96초 길이의 프레임을 사용하고 0.48초마다 하나의 프레임을 추출합니다.\n",
        "\n",
        "이 모델은 `[-1.0, +1.0]` 범위의 단일 채널(모노) 16kHz 샘플로 나타내어지는 임의 길이의 파형을 포함하는 1차원 float32 Tensor 또는 NumPy 배열을 허용합니다. 이 튜토리얼에는 WAV 파일을 지원되는 형식으로 변환하는 데 도움이 되는 코드가 포함되어 있습니다.\n",
        "\n",
        "이 모델은 클래스 점수, 임베딩(전이 학습에 사용됨) 및 log mel [스펙트로그램](https://www.tensorflow.org/tutorials/audio/simple_audio#spectrogram)을 포함하여 3개의 출력을 반환합니다. 자세한 내용은 [여기](https://tfhub.dev/google/yamnet/1)에서 확인할 수 있습니다.\n",
        "\n",
        "YAMNet의 특정 용도 중 하나는 1,024차원 임베딩 출력인 고차원 특성 추출기입니다. 기본(YAMNet) 모델의 입력 특성을 사용하고 하나의 숨겨진 `tf.keras.layers.Dense` 레이어로 구성된 얕은 모델에 이를 입력합니다. 그런 다음 많은 레이블이 지정된 데이터와 전체 훈련 *없이* 오디오 분류를 위해 소량의 데이터로 네트워크를 훈련합니다. (자세한 내용은 [TensorFlow Hub를 사용한 이미지 분류를 위한 전이 학습](https://www.tensorflow.org/tutorials/images/transfer_learning_with_hub)과 유사합니다.)\n",
        "\n",
        "먼저, 모델을 테스트하고 오디오 분류 결과를 확인합니다. 그런 다음 데이터 사전 처리 파이프라인을 구성합니다.\n",
        "\n",
        "### TensorFlow Hub에서 YAMNet 로드하기\n",
        "\n",
        "Tensorflow [Hub](https://tfhub.dev/)에서 사전 훈련된 YAMNet을 사용하여 사운드 파일에서 임베딩을 추출합니다.\n",
        "\n",
        "TensorFlow Hub에서 모델을 로드하는 것은 간단합니다. 모델을 선택하고 해당 URL을 복사한 다음 `load` 함수를 사용합니다.\n",
        "\n",
        "참고: 모델 설명서를 읽으려면 브라우저에서 모델 URL을 사용하세요."
      ]
    },
    {
      "cell_type": "code",
      "execution_count": 155,
      "metadata": {
        "id": "06CWkBV5v3gr"
      },
      "outputs": [],
      "source": [
        "yamnet_model_handle = 'https://tfhub.dev/google/yamnet/1'\n",
        "yamnet_model = hub.load(yamnet_model_handle)"
      ]
    },
    {
      "cell_type": "markdown",
      "metadata": {
        "id": "GmrPJ0GHw9rr"
      },
      "source": [
        "모델이 로드되면 [YAMNet 기본 사용 튜토리얼](https://www.tensorflow.org/hub/tutorials/yamnet)을 따르고 샘플 WAV 파일을 다운로드하여 추론을 실행할 수 있습니다.\n"
      ]
    },
    {
      "cell_type": "code",
      "execution_count": 156,
      "metadata": {
        "id": "C5i6xktEq00P",
        "colab": {
          "base_uri": "https://localhost:8080/"
        },
        "outputId": "f77d6cb7-801a-4567-f64c-d32caa0fee51"
      },
      "outputs": [
        {
          "output_type": "stream",
          "name": "stdout",
          "text": [
            "./test_data/miaow_16k.wav\n"
          ]
        }
      ],
      "source": [
        "testing_wav_file_name = tf.keras.utils.get_file('miaow_16k.wav',\n",
        "                                                'https://storage.googleapis.com/audioset/miaow_16k.wav',\n",
        "                                                cache_dir='./',\n",
        "                                                cache_subdir='test_data')\n",
        "\n",
        "print(testing_wav_file_name)"
      ]
    },
    {
      "cell_type": "markdown",
      "metadata": {
        "id": "mBm9y9iV2U_-"
      },
      "source": [
        "나중에 훈련 데이터로 작업할 때도 사용할 오디오 파일을 로드하는 함수가 필요합니다. [간단한 오디오 인식](https://www.tensorflow.org/tutorials/audio/simple_audio#reading_audio_files_and_their_labels)에서 오디오 파일 및 해당 레이블을 읽는 방법을 자세히 알아보세요.\n",
        "\n",
        "참고: `wav_data`에서 반환된 `load_wav_16k_mono`는 이미 `[-1.0, 1.0]` 범위의 값으로 정규화되었습니다(자세한 내용은 [TF Hub에서 YAMNet 설명서](https://tfhub.dev/google/yamnet/1) 참조)."
      ]
    },
    {
      "cell_type": "code",
      "execution_count": 187,
      "metadata": {
        "id": "Xwc9Wrdg2EtY"
      },
      "outputs": [],
      "source": [
        "# Utility functions for loading audio files and making sure the sample rate is correct.\n",
        "\n",
        "@tf.function\n",
        "def load_wav_16k_mono(filename):\n",
        "    \"\"\" Load a WAV file, convert it to a float tensor, resample to 16 kHz single-channel audio. \"\"\"\n",
        "    file_contents = tf.io.read_file(filename)\n",
        "    wav, sample_rate = tf.audio.decode_wav(\n",
        "          file_contents,\n",
        "          desired_channels=1)\n",
        "    wav = tf.squeeze(wav, axis=-1)\n",
        "    sample_rate = tf.cast(sample_rate, dtype=tf.int64)\n",
        "    wav = tfio.audio.resample(wav, rate_in=sample_rate, rate_out=16000)\n",
        "    return wav"
      ]
    },
    {
      "cell_type": "code",
      "source": [
        "!ffmpeg -i /content/143115-1-2-0.wav -acodec pcm_s16le -ac 1 -ar 16000 /content/converted_audio.wav"
      ],
      "metadata": {
        "id": "mJXThVtCLiDu",
        "outputId": "fd9e68bf-65af-494c-fbfb-86fe724d1445",
        "colab": {
          "base_uri": "https://localhost:8080/"
        }
      },
      "execution_count": 185,
      "outputs": [
        {
          "output_type": "stream",
          "name": "stdout",
          "text": [
            "ffmpeg version 4.4.2-0ubuntu0.22.04.1 Copyright (c) 2000-2021 the FFmpeg developers\n",
            "  built with gcc 11 (Ubuntu 11.2.0-19ubuntu1)\n",
            "  configuration: --prefix=/usr --extra-version=0ubuntu0.22.04.1 --toolchain=hardened --libdir=/usr/lib/x86_64-linux-gnu --incdir=/usr/include/x86_64-linux-gnu --arch=amd64 --enable-gpl --disable-stripping --enable-gnutls --enable-ladspa --enable-libaom --enable-libass --enable-libbluray --enable-libbs2b --enable-libcaca --enable-libcdio --enable-libcodec2 --enable-libdav1d --enable-libflite --enable-libfontconfig --enable-libfreetype --enable-libfribidi --enable-libgme --enable-libgsm --enable-libjack --enable-libmp3lame --enable-libmysofa --enable-libopenjpeg --enable-libopenmpt --enable-libopus --enable-libpulse --enable-librabbitmq --enable-librubberband --enable-libshine --enable-libsnappy --enable-libsoxr --enable-libspeex --enable-libsrt --enable-libssh --enable-libtheora --enable-libtwolame --enable-libvidstab --enable-libvorbis --enable-libvpx --enable-libwebp --enable-libx265 --enable-libxml2 --enable-libxvid --enable-libzimg --enable-libzmq --enable-libzvbi --enable-lv2 --enable-omx --enable-openal --enable-opencl --enable-opengl --enable-sdl2 --enable-pocketsphinx --enable-librsvg --enable-libmfx --enable-libdc1394 --enable-libdrm --enable-libiec61883 --enable-chromaprint --enable-frei0r --enable-libx264 --enable-shared\n",
            "  libavutil      56. 70.100 / 56. 70.100\n",
            "  libavcodec     58.134.100 / 58.134.100\n",
            "  libavformat    58. 76.100 / 58. 76.100\n",
            "  libavdevice    58. 13.100 / 58. 13.100\n",
            "  libavfilter     7.110.100 /  7.110.100\n",
            "  libswscale      5.  9.100 /  5.  9.100\n",
            "  libswresample   3.  9.100 /  3.  9.100\n",
            "  libpostproc    55.  9.100 / 55.  9.100\n",
            "Input #0, wav, from '/content/143115-1-2-0.wav':\n",
            "  Duration: 00:00:01.21, bitrate: 2304 kb/s\n",
            "  Stream #0:0: Audio: pcm_s24le ([1][0][0][0] / 0x0001), 48000 Hz, stereo, s32 (24 bit), 2304 kb/s\n",
            "Stream mapping:\n",
            "  Stream #0:0 -> #0:0 (pcm_s24le (native) -> pcm_s16le (native))\n",
            "Press [q] to stop, [?] for help\n",
            "Output #0, wav, to '/content/converted_audio.wav':\n",
            "  Metadata:\n",
            "    ISFT            : Lavf58.76.100\n",
            "  Stream #0:0: Audio: pcm_s16le ([1][0][0][0] / 0x0001), 16000 Hz, mono, s16, 256 kb/s\n",
            "    Metadata:\n",
            "      encoder         : Lavc58.134.100 pcm_s16le\n",
            "size=       0kB time=00:00:00.00 bitrate=N/A speed=N/A    \rsize=      38kB time=00:00:01.20 bitrate= 256.7kbits/s speed=  77x    \n",
            "video:0kB audio:38kB subtitle:0kB other streams:0kB global headers:0kB muxing overhead: 0.201895%\n"
          ]
        }
      ]
    },
    {
      "cell_type": "code",
      "execution_count": 188,
      "metadata": {
        "id": "FRqpjkwB0Jjw",
        "colab": {
          "base_uri": "https://localhost:8080/",
          "height": 506
        },
        "outputId": "c12e6d9e-dfc4-4e0c-cd5f-533e11b67aa3"
      },
      "outputs": [
        {
          "output_type": "stream",
          "name": "stderr",
          "text": [
            "WARNING:tensorflow:Using a while_loop for converting IO>AudioResample cause there is no registered converter for this op.\n"
          ]
        },
        {
          "output_type": "execute_result",
          "data": {
            "text/plain": [
              "<IPython.lib.display.Audio object>"
            ],
            "text/html": [
              "\n",
              "                <audio  controls=\"controls\" >\n",
              "                    <source src=\"data:audio/wav;base64,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\" type=\"audio/wav\" />\n",
              "                    Your browser does not support the audio element.\n",
              "                </audio>\n",
              "              "
            ]
          },
          "metadata": {},
          "execution_count": 188
        },
        {
          "output_type": "display_data",
          "data": {
            "text/plain": [
              "<Figure size 640x480 with 1 Axes>"
            ],
            "image/png": "[encoded data removed]"
          },
          "metadata": {}
        }
      ],
      "source": [
        "testing_wav_data = load_wav_16k_mono('/content/converted_audio.wav')\n",
        "\n",
        "_ = plt.plot(testing_wav_data)\n",
        "\n",
        "# Play the audio file.\n",
        "display.Audio(testing_wav_data, rate=16000)"
      ]
    },
    {
      "cell_type": "markdown",
      "metadata": {
        "id": "6z6rqlEz20YB"
      },
      "source": [
        "### 클래스 매핑 로드하기\n",
        "\n",
        "YAMNet이 인식할 수 있는 클래스 이름을 로드하는 것이 중요합니다. 매핑 파일은 CSV 형식으로 `yamnet_model.class_map_path()`에 들어 있습니다."
      ]
    },
    {
      "cell_type": "code",
      "execution_count": 159,
      "metadata": {
        "id": "6Gyj23e_3Mgr",
        "colab": {
          "base_uri": "https://localhost:8080/"
        },
        "outputId": "104a11e4-521d-4eee-f7a9-9afa208bbc30"
      },
      "outputs": [
        {
          "output_type": "stream",
          "name": "stdout",
          "text": [
            "Speech\n",
            "Child speech, kid speaking\n",
            "Conversation\n",
            "Narration, monologue\n",
            "Babbling\n",
            "Speech synthesizer\n",
            "Shout\n",
            "Bellow\n",
            "Whoop\n",
            "Yell\n",
            "Children shouting\n",
            "Screaming\n",
            "Whispering\n",
            "Laughter\n",
            "Baby laughter\n",
            "Giggle\n",
            "Snicker\n",
            "Belly laugh\n",
            "Chuckle, chortle\n",
            "Crying, sobbing\n",
            "Baby cry, infant cry\n",
            "Whimper\n",
            "Wail, moan\n",
            "Sigh\n",
            "Singing\n",
            "Choir\n",
            "Yodeling\n",
            "Chant\n",
            "Mantra\n",
            "Child singing\n",
            "Synthetic singing\n",
            "Rapping\n",
            "Humming\n",
            "Groan\n",
            "Grunt\n",
            "Whistling\n",
            "Breathing\n",
            "Wheeze\n",
            "Snoring\n",
            "Gasp\n",
            "Pant\n",
            "Snort\n",
            "Cough\n",
            "Throat clearing\n",
            "Sneeze\n",
            "Sniff\n",
            "Run\n",
            "Shuffle\n",
            "Walk, footsteps\n",
            "Chewing, mastication\n",
            "Biting\n",
            "Gargling\n",
            "Stomach rumble\n",
            "Burping, eructation\n",
            "Hiccup\n",
            "Fart\n",
            "Hands\n",
            "Finger snapping\n",
            "Clapping\n",
            "Heart sounds, heartbeat\n",
            "Heart murmur\n",
            "Cheering\n",
            "Applause\n",
            "Chatter\n",
            "Crowd\n",
            "Hubbub, speech noise, speech babble\n",
            "Children playing\n",
            "Animal\n",
            "Domestic animals, pets\n",
            "Dog\n",
            "Bark\n",
            "Yip\n",
            "Howl\n",
            "Bow-wow\n",
            "Growling\n",
            "Whimper (dog)\n",
            "Cat\n",
            "Purr\n",
            "Meow\n",
            "Hiss\n",
            "Caterwaul\n",
            "Livestock, farm animals, working animals\n",
            "Horse\n",
            "Clip-clop\n",
            "Neigh, whinny\n",
            "Cattle, bovinae\n",
            "Moo\n",
            "Cowbell\n",
            "Pig\n",
            "Oink\n",
            "Goat\n",
            "Bleat\n",
            "Sheep\n",
            "Fowl\n",
            "Chicken, rooster\n",
            "Cluck\n",
            "Crowing, cock-a-doodle-doo\n",
            "Turkey\n",
            "Gobble\n",
            "Duck\n",
            "Quack\n",
            "Goose\n",
            "Honk\n",
            "Wild animals\n",
            "Roaring cats (lions, tigers)\n",
            "Roar\n",
            "Bird\n",
            "Bird vocalization, bird call, bird song\n",
            "Chirp, tweet\n",
            "Squawk\n",
            "Pigeon, dove\n",
            "Coo\n",
            "Crow\n",
            "Caw\n",
            "Owl\n",
            "Hoot\n",
            "Bird flight, flapping wings\n",
            "Canidae, dogs, wolves\n",
            "Rodents, rats, mice\n",
            "Mouse\n",
            "Patter\n",
            "Insect\n",
            "Cricket\n",
            "Mosquito\n",
            "Fly, housefly\n",
            "Buzz\n",
            "Bee, wasp, etc.\n",
            "Frog\n",
            "Croak\n",
            "Snake\n",
            "Rattle\n",
            "Whale vocalization\n",
            "Music\n",
            "Musical instrument\n",
            "Plucked string instrument\n",
            "Guitar\n",
            "Electric guitar\n",
            "Bass guitar\n",
            "Acoustic guitar\n",
            "Steel guitar, slide guitar\n",
            "Tapping (guitar technique)\n",
            "Strum\n",
            "Banjo\n",
            "Sitar\n",
            "Mandolin\n",
            "Zither\n",
            "Ukulele\n",
            "Keyboard (musical)\n",
            "Piano\n",
            "Electric piano\n",
            "Organ\n",
            "Electronic organ\n",
            "Hammond organ\n",
            "Synthesizer\n",
            "Sampler\n",
            "Harpsichord\n",
            "Percussion\n",
            "Drum kit\n",
            "Drum machine\n",
            "Drum\n",
            "Snare drum\n",
            "Rimshot\n",
            "Drum roll\n",
            "Bass drum\n",
            "Timpani\n",
            "Tabla\n",
            "Cymbal\n",
            "Hi-hat\n",
            "Wood block\n",
            "Tambourine\n",
            "Rattle (instrument)\n",
            "Maraca\n",
            "Gong\n",
            "Tubular bells\n",
            "Mallet percussion\n",
            "Marimba, xylophone\n",
            "Glockenspiel\n",
            "Vibraphone\n",
            "Steelpan\n",
            "Orchestra\n",
            "Brass instrument\n",
            "French horn\n",
            "Trumpet\n",
            "Trombone\n",
            "Bowed string instrument\n",
            "String section\n",
            "Violin, fiddle\n",
            "Pizzicato\n",
            "Cello\n",
            "Double bass\n",
            "Wind instrument, woodwind instrument\n",
            "Flute\n",
            "Saxophone\n",
            "Clarinet\n",
            "Harp\n",
            "Bell\n",
            "Church bell\n",
            "Jingle bell\n",
            "Bicycle bell\n",
            "Tuning fork\n",
            "Chime\n",
            "Wind chime\n",
            "Change ringing (campanology)\n",
            "Harmonica\n",
            "Accordion\n",
            "Bagpipes\n",
            "Didgeridoo\n",
            "Shofar\n",
            "Theremin\n",
            "Singing bowl\n",
            "Scratching (performance technique)\n",
            "Pop music\n",
            "Hip hop music\n",
            "Beatboxing\n",
            "Rock music\n",
            "Heavy metal\n",
            "Punk rock\n",
            "Grunge\n",
            "Progressive rock\n",
            "Rock and roll\n",
            "Psychedelic rock\n",
            "Rhythm and blues\n",
            "Soul music\n",
            "Reggae\n",
            "Country\n",
            "Swing music\n",
            "Bluegrass\n",
            "Funk\n",
            "Folk music\n",
            "Middle Eastern music\n",
            "Jazz\n",
            "Disco\n",
            "Classical music\n",
            "Opera\n",
            "Electronic music\n",
            "House music\n",
            "Techno\n",
            "Dubstep\n",
            "Drum and bass\n",
            "Electronica\n",
            "Electronic dance music\n",
            "Ambient music\n",
            "Trance music\n",
            "Music of Latin America\n",
            "Salsa music\n",
            "Flamenco\n",
            "Blues\n",
            "Music for children\n",
            "New-age music\n",
            "Vocal music\n",
            "A capella\n",
            "Music of Africa\n",
            "Afrobeat\n",
            "Christian music\n",
            "Gospel music\n",
            "Music of Asia\n",
            "Carnatic music\n",
            "Music of Bollywood\n",
            "Ska\n",
            "Traditional music\n",
            "Independent music\n",
            "Song\n",
            "Background music\n",
            "Theme music\n",
            "Jingle (music)\n",
            "Soundtrack music\n",
            "Lullaby\n",
            "Video game music\n",
            "Christmas music\n",
            "Dance music\n",
            "Wedding music\n",
            "Happy music\n",
            "Sad music\n",
            "Tender music\n",
            "Exciting music\n",
            "Angry music\n",
            "Scary music\n",
            "Wind\n",
            "Rustling leaves\n",
            "Wind noise (microphone)\n",
            "Thunderstorm\n",
            "Thunder\n",
            "Water\n",
            "Rain\n",
            "Raindrop\n",
            "Rain on surface\n",
            "Stream\n",
            "Waterfall\n",
            "Ocean\n",
            "Waves, surf\n",
            "Steam\n",
            "Gurgling\n",
            "Fire\n",
            "Crackle\n",
            "Vehicle\n",
            "Boat, Water vehicle\n",
            "Sailboat, sailing ship\n",
            "Rowboat, canoe, kayak\n",
            "Motorboat, speedboat\n",
            "Ship\n",
            "Motor vehicle (road)\n",
            "Car\n",
            "Vehicle horn, car horn, honking\n",
            "Toot\n",
            "Car alarm\n",
            "Power windows, electric windows\n",
            "Skidding\n",
            "Tire squeal\n",
            "Car passing by\n",
            "Race car, auto racing\n",
            "Truck\n",
            "Air brake\n",
            "Air horn, truck horn\n",
            "Reversing beeps\n",
            "Ice cream truck, ice cream van\n",
            "Bus\n",
            "Emergency vehicle\n",
            "Police car (siren)\n",
            "Ambulance (siren)\n",
            "Fire engine, fire truck (siren)\n",
            "Motorcycle\n",
            "Traffic noise, roadway noise\n",
            "Rail transport\n",
            "Train\n",
            "Train whistle\n",
            "Train horn\n",
            "Railroad car, train wagon\n",
            "Train wheels squealing\n",
            "Subway, metro, underground\n",
            "Aircraft\n",
            "Aircraft engine\n",
            "Jet engine\n",
            "Propeller, airscrew\n",
            "Helicopter\n",
            "Fixed-wing aircraft, airplane\n",
            "Bicycle\n",
            "Skateboard\n",
            "Engine\n",
            "Light engine (high frequency)\n",
            "Dental drill, dentist's drill\n",
            "Lawn mower\n",
            "Chainsaw\n",
            "Medium engine (mid frequency)\n",
            "Heavy engine (low frequency)\n",
            "Engine knocking\n",
            "Engine starting\n",
            "Idling\n",
            "Accelerating, revving, vroom\n",
            "Door\n",
            "Doorbell\n",
            "Ding-dong\n",
            "Sliding door\n",
            "Slam\n",
            "Knock\n",
            "Tap\n",
            "Squeak\n",
            "Cupboard open or close\n",
            "Drawer open or close\n",
            "Dishes, pots, and pans\n",
            "Cutlery, silverware\n",
            "Chopping (food)\n",
            "Frying (food)\n",
            "Microwave oven\n",
            "Blender\n",
            "Water tap, faucet\n",
            "Sink (filling or washing)\n",
            "Bathtub (filling or washing)\n",
            "Hair dryer\n",
            "Toilet flush\n",
            "Toothbrush\n",
            "Electric toothbrush\n",
            "Vacuum cleaner\n",
            "Zipper (clothing)\n",
            "Keys jangling\n",
            "Coin (dropping)\n",
            "Scissors\n",
            "Electric shaver, electric razor\n",
            "Shuffling cards\n",
            "Typing\n",
            "Typewriter\n",
            "Computer keyboard\n",
            "Writing\n",
            "Alarm\n",
            "Telephone\n",
            "Telephone bell ringing\n",
            "Ringtone\n",
            "Telephone dialing, DTMF\n",
            "Dial tone\n",
            "Busy signal\n",
            "Alarm clock\n",
            "Siren\n",
            "Civil defense siren\n",
            "Buzzer\n",
            "Smoke detector, smoke alarm\n",
            "Fire alarm\n",
            "Foghorn\n",
            "Whistle\n",
            "Steam whistle\n",
            "Mechanisms\n",
            "Ratchet, pawl\n",
            "Clock\n",
            "Tick\n",
            "Tick-tock\n",
            "Gears\n",
            "Pulleys\n",
            "Sewing machine\n",
            "Mechanical fan\n",
            "Air conditioning\n",
            "Cash register\n",
            "Printer\n",
            "Camera\n",
            "Single-lens reflex camera\n",
            "Tools\n",
            "Hammer\n",
            "Jackhammer\n",
            "Sawing\n",
            "Filing (rasp)\n",
            "Sanding\n",
            "Power tool\n",
            "Drill\n",
            "Explosion\n",
            "Gunshot, gunfire\n",
            "Machine gun\n",
            "Fusillade\n",
            "Artillery fire\n",
            "Cap gun\n",
            "Fireworks\n",
            "Firecracker\n",
            "Burst, pop\n",
            "Eruption\n",
            "Boom\n",
            "Wood\n",
            "Chop\n",
            "Splinter\n",
            "Crack\n",
            "Glass\n",
            "Chink, clink\n",
            "Shatter\n",
            "Liquid\n",
            "Splash, splatter\n",
            "Slosh\n",
            "Squish\n",
            "Drip\n",
            "Pour\n",
            "Trickle, dribble\n",
            "Gush\n",
            "Fill (with liquid)\n",
            "Spray\n",
            "Pump (liquid)\n",
            "Stir\n",
            "Boiling\n",
            "Sonar\n",
            "Arrow\n",
            "Whoosh, swoosh, swish\n",
            "Thump, thud\n",
            "Thunk\n",
            "Electronic tuner\n",
            "Effects unit\n",
            "Chorus effect\n",
            "Basketball bounce\n",
            "Bang\n",
            "Slap, smack\n",
            "Whack, thwack\n",
            "Smash, crash\n",
            "Breaking\n",
            "Bouncing\n",
            "Whip\n",
            "Flap\n",
            "Scratch\n",
            "Scrape\n",
            "Rub\n",
            "Roll\n",
            "Crushing\n",
            "Crumpling, crinkling\n",
            "Tearing\n",
            "Beep, bleep\n",
            "Ping\n",
            "Ding\n",
            "Clang\n",
            "Squeal\n",
            "Creak\n",
            "Rustle\n",
            "Whir\n",
            "Clatter\n",
            "Sizzle\n",
            "Clicking\n",
            "Clickety-clack\n",
            "Rumble\n",
            "Plop\n",
            "Jingle, tinkle\n",
            "Hum\n",
            "Zing\n",
            "Boing\n",
            "Crunch\n",
            "Silence\n",
            "Sine wave\n",
            "Harmonic\n",
            "Chirp tone\n",
            "Sound effect\n",
            "Pulse\n",
            "Inside, small room\n",
            "Inside, large room or hall\n",
            "Inside, public space\n",
            "Outside, urban or manmade\n",
            "Outside, rural or natural\n",
            "Reverberation\n",
            "Echo\n",
            "Noise\n",
            "Environmental noise\n",
            "Static\n",
            "Mains hum\n",
            "Distortion\n",
            "Sidetone\n",
            "Cacophony\n",
            "White noise\n",
            "Pink noise\n",
            "Throbbing\n",
            "Vibration\n",
            "Television\n",
            "Radio\n",
            "Field recording\n",
            "...\n"
          ]
        }
      ],
      "source": [
        "class_map_path = yamnet_model.class_map_path().numpy().decode('utf-8')\n",
        "class_names =list(pd.read_csv(class_map_path)['display_name'])\n",
        "\n",
        "for name in class_names[:]:\n",
        "  print(name)\n",
        "print('...')"
      ]
    },
    {
      "cell_type": "markdown",
      "metadata": {
        "id": "5xbycDnT40u0"
      },
      "source": [
        "### 추론 실행\n",
        "\n",
        "YAMNet은 프레임 수준의 클래스 점수(즉, 모든 프레임에 대해 521점)를 제공합니다. 클립 레벨 예측을 결정하기 위해 전체 프레임에 걸쳐 클래스별로 점수를 집계할 수 있습니다(예: 평균 또는 최대 집계 사용). 이 작업을 위해 아래에서 `scores_np.mean(axis=0)`이 사용됩니다. 마지막으로, 클립 수준에서 최고 점수의 클래스를 찾으려면 521개의 집계 점수 중 최대값을 취합니다.\n"
      ]
    },
    {
      "cell_type": "code",
      "execution_count": 160,
      "metadata": {
        "id": "NT0otp-A4Y3u",
        "colab": {
          "base_uri": "https://localhost:8080/"
        },
        "outputId": "7b835127-ebd8-4b29-f9c8-50e16708b3f1"
      },
      "outputs": [
        {
          "output_type": "stream",
          "name": "stdout",
          "text": [
            "The main sound is: Animal\n",
            "The embeddings shape: (13, 1024)\n"
          ]
        }
      ],
      "source": [
        "scores, embeddings, spectrogram = yamnet_model(testing_wav_data)\n",
        "class_scores = tf.reduce_mean(scores, axis=0)\n",
        "top_class = tf.math.argmax(class_scores)\n",
        "inferred_class = class_names[top_class]\n",
        "\n",
        "print(f'The main sound is: {inferred_class}')\n",
        "print(f'The embeddings shape: {embeddings.shape}')"
      ]
    },
    {
      "cell_type": "markdown",
      "metadata": {
        "id": "YBaLNg5H5IWa"
      },
      "source": [
        "참고: 모델은 동물 소리를 올바르게 추론했습니다. 이 튜토리얼의 목표는 특정 클래스에 대한 모델의 정확도를 높이는 것입니다. 또한 모델은 프레임당 1개씩 13개의 임베딩을 생성했습니다."
      ]
    },
    {
      "cell_type": "markdown",
      "metadata": {
        "id": "fmthELBg1A2-"
      },
      "source": [
        "## ESC-50 데이터세트\n",
        "\n",
        "[ESC-50 데이터세트](https://github.com/karolpiczak/ESC-50#repository-content)([Piczak, 2015](https://www.karolpiczak.com/papers/Piczak2015-ESC-Dataset.pdf))는 5초 길이의 환경 오디오 녹음 2,000개의 레이블이 지정된 컬렉션입니다. 데이터세트는 50개의 클래스로 구성되며 클래스당 40개의 예제가 있습니다.\n",
        "\n",
        "데이터세트를 다운로드하고 압축을 풉니다.\n"
      ]
    },
    {
      "cell_type": "code",
      "execution_count": 161,
      "metadata": {
        "id": "MWobqK8JmZOU"
      },
      "outputs": [],
      "source": [
        "_ = tf.keras.utils.get_file('esc-50.zip',\n",
        "                        'https://github.com/karoldvl/ESC-50/archive/master.zip',\n",
        "                        cache_dir='./',\n",
        "                        cache_subdir='datasets',\n",
        "                        extract=True)"
      ]
    },
    {
      "cell_type": "markdown",
      "metadata": {
        "id": "qcruxiuX1cO5"
      },
      "source": [
        "### 데이터 살펴보기\n",
        "\n",
        "각 파일의 메타데이터는 `./datasets/ESC-50-master/meta/esc50.csv`의 csv 파일에 지정됩니다.\n",
        "\n",
        "그리고 모든 오디오 파일은 `./datasets/ESC-50-master/audio/`에 있습니다.\n",
        "\n",
        "매핑을 사용하여 pandas `DataFrame`을 만들고 이를 사용하여 데이터를 더 명확하게 볼 수 있습니다.\n"
      ]
    },
    {
      "cell_type": "code",
      "execution_count": 162,
      "metadata": {
        "id": "jwmLygPrMAbH",
        "colab": {
          "base_uri": "https://localhost:8080/",
          "height": 206
        },
        "outputId": "7b38f046-028d-4c50-ae39-03d055c7eacb"
      },
      "outputs": [
        {
          "output_type": "execute_result",
          "data": {
            "text/plain": [
              "            filename  fold  target        category  esc10  src_file take\n",
              "0   1-100032-A-0.wav     1       0             dog   True    100032    A\n",
              "1  1-100038-A-14.wav     1      14  chirping_birds  False    100038    A\n",
              "2  1-100210-A-36.wav     1      36  vacuum_cleaner  False    100210    A\n",
              "3  1-100210-B-36.wav     1      36  vacuum_cleaner  False    100210    B\n",
              "4  1-101296-A-19.wav     1      19    thunderstorm  False    101296    A"
            ],
            "text/html": [
              "\n",
              "  <div id=\"df-d4b91dc9-228e-4ba7-858c-29556e6f6566\" class=\"colab-df-container\">\n",
              "    <div>\n",
              "<style scoped>\n",
              "    .dataframe tbody tr th:only-of-type {\n",
              "        vertical-align: middle;\n",
              "    }\n",
              "\n",
              "    .dataframe tbody tr th {\n",
              "        vertical-align: top;\n",
              "    }\n",
              "\n",
              "    .dataframe thead th {\n",
              "        text-align: right;\n",
              "    }\n",
              "</style>\n",
              "<table border=\"1\" class=\"dataframe\">\n",
              "  <thead>\n",
              "    <tr style=\"text-align: right;\">\n",
              "      <th></th>\n",
              "      <th>filename</th>\n",
              "      <th>fold</th>\n",
              "      <th>target</th>\n",
              "      <th>category</th>\n",
              "      <th>esc10</th>\n",
              "      <th>src_file</th>\n",
              "      <th>take</th>\n",
              "    </tr>\n",
              "  </thead>\n",
              "  <tbody>\n",
              "    <tr>\n",
              "      <th>0</th>\n",
              "      <td>1-100032-A-0.wav</td>\n",
              "      <td>1</td>\n",
              "      <td>0</td>\n",
              "      <td>dog</td>\n",
              "      <td>True</td>\n",
              "      <td>100032</td>\n",
              "      <td>A</td>\n",
              "    </tr>\n",
              "    <tr>\n",
              "      <th>1</th>\n",
              "      <td>1-100038-A-14.wav</td>\n",
              "      <td>1</td>\n",
              "      <td>14</td>\n",
              "      <td>chirping_birds</td>\n",
              "      <td>False</td>\n",
              "      <td>100038</td>\n",
              "      <td>A</td>\n",
              "    </tr>\n",
              "    <tr>\n",
              "      <th>2</th>\n",
              "      <td>1-100210-A-36.wav</td>\n",
              "      <td>1</td>\n",
              "      <td>36</td>\n",
              "      <td>vacuum_cleaner</td>\n",
              "      <td>False</td>\n",
              "      <td>100210</td>\n",
              "      <td>A</td>\n",
              "    </tr>\n",
              "    <tr>\n",
              "      <th>3</th>\n",
              "      <td>1-100210-B-36.wav</td>\n",
              "      <td>1</td>\n",
              "      <td>36</td>\n",
              "      <td>vacuum_cleaner</td>\n",
              "      <td>False</td>\n",
              "      <td>100210</td>\n",
              "      <td>B</td>\n",
              "    </tr>\n",
              "    <tr>\n",
              "      <th>4</th>\n",
              "      <td>1-101296-A-19.wav</td>\n",
              "      <td>1</td>\n",
              "      <td>19</td>\n",
              "      <td>thunderstorm</td>\n",
              "      <td>False</td>\n",
              "      <td>101296</td>\n",
              "      <td>A</td>\n",
              "    </tr>\n",
              "  </tbody>\n",
              "</table>\n",
              "</div>\n",
              "    <div class=\"colab-df-buttons\">\n",
              "\n",
              "  <div class=\"colab-df-container\">\n",
              "    <button class=\"colab-df-convert\" onclick=\"convertToInteractive('df-d4b91dc9-228e-4ba7-858c-29556e6f6566')\"\n",
              "            title=\"Convert this dataframe to an interactive table.\"\n",
              "            style=\"display:none;\">\n",
              "\n",
              "  <svg xmlns=\"http://www.w3.org/2000/svg\" height=\"24px\" viewBox=\"0 -960 960 960\">\n",
              "    <path d=\"M120-120v-720h720v720H120Zm60-500h600v-160H180v160Zm220 220h160v-160H400v160Zm0 220h160v-160H400v160ZM180-400h160v-160H180v160Zm440 0h160v-160H620v160ZM180-180h160v-160H180v160Zm440 0h160v-160H620v160Z\"/>\n",
              "  </svg>\n",
              "    </button>\n",
              "\n",
              "  <style>\n",
              "    .colab-df-container {\n",
              "      display:flex;\n",
              "      gap: 12px;\n",
              "    }\n",
              "\n",
              "    .colab-df-convert {\n",
              "      background-color: #E8F0FE;\n",
              "      border: none;\n",
              "      border-radius: 50%;\n",
              "      cursor: pointer;\n",
              "      display: none;\n",
              "      fill: #1967D2;\n",
              "      height: 32px;\n",
              "      padding: 0 0 0 0;\n",
              "      width: 32px;\n",
              "    }\n",
              "\n",
              "    .colab-df-convert:hover {\n",
              "      background-color: #E2EBFA;\n",
              "      box-shadow: 0px 1px 2px rgba(60, 64, 67, 0.3), 0px 1px 3px 1px rgba(60, 64, 67, 0.15);\n",
              "      fill: #174EA6;\n",
              "    }\n",
              "\n",
              "    .colab-df-buttons div {\n",
              "      margin-bottom: 4px;\n",
              "    }\n",
              "\n",
              "    [theme=dark] .colab-df-convert {\n",
              "      background-color: #3B4455;\n",
              "      fill: #D2E3FC;\n",
              "    }\n",
              "\n",
              "    [theme=dark] .colab-df-convert:hover {\n",
              "      background-color: #434B5C;\n",
              "      box-shadow: 0px 1px 3px 1px rgba(0, 0, 0, 0.15);\n",
              "      filter: drop-shadow(0px 1px 2px rgba(0, 0, 0, 0.3));\n",
              "      fill: #FFFFFF;\n",
              "    }\n",
              "  </style>\n",
              "\n",
              "    <script>\n",
              "      const buttonEl =\n",
              "        document.querySelector('#df-d4b91dc9-228e-4ba7-858c-29556e6f6566 button.colab-df-convert');\n",
              "      buttonEl.style.display =\n",
              "        google.colab.kernel.accessAllowed ? 'block' : 'none';\n",
              "\n",
              "      async function convertToInteractive(key) {\n",
              "        const element = document.querySelector('#df-d4b91dc9-228e-4ba7-858c-29556e6f6566');\n",
              "        const dataTable =\n",
              "          await google.colab.kernel.invokeFunction('convertToInteractive',\n",
              "                                                    [key], {});\n",
              "        if (!dataTable) return;\n",
              "\n",
              "        const docLinkHtml = 'Like what you see? Visit the ' +\n",
              "          '<a target=\"_blank\" href=https://colab.research.google.com/notebooks/data_table.ipynb>data table notebook</a>'\n",
              "          + ' to learn more about interactive tables.';\n",
              "        element.innerHTML = '';\n",
              "        dataTable['output_type'] = 'display_data';\n",
              "        await google.colab.output.renderOutput(dataTable, element);\n",
              "        const docLink = document.createElement('div');\n",
              "        docLink.innerHTML = docLinkHtml;\n",
              "        element.appendChild(docLink);\n",
              "      }\n",
              "    </script>\n",
              "  </div>\n",
              "\n",
              "\n",
              "<div id=\"df-fb98d46d-f11a-4c9c-a165-b95c3a51869e\">\n",
              "  <button class=\"colab-df-quickchart\" onclick=\"quickchart('df-fb98d46d-f11a-4c9c-a165-b95c3a51869e')\"\n",
              "            title=\"Suggest charts\"\n",
              "            style=\"display:none;\">\n",
              "\n",
              "<svg xmlns=\"http://www.w3.org/2000/svg\" height=\"24px\"viewBox=\"0 0 24 24\"\n",
              "     width=\"24px\">\n",
              "    <g>\n",
              "        <path d=\"M19 3H5c-1.1 0-2 .9-2 2v14c0 1.1.9 2 2 2h14c1.1 0 2-.9 2-2V5c0-1.1-.9-2-2-2zM9 17H7v-7h2v7zm4 0h-2V7h2v10zm4 0h-2v-4h2v4z\"/>\n",
              "    </g>\n",
              "</svg>\n",
              "  </button>\n",
              "\n",
              "<style>\n",
              "  .colab-df-quickchart {\n",
              "      --bg-color: #E8F0FE;\n",
              "      --fill-color: #1967D2;\n",
              "      --hover-bg-color: #E2EBFA;\n",
              "      --hover-fill-color: #174EA6;\n",
              "      --disabled-fill-color: #AAA;\n",
              "      --disabled-bg-color: #DDD;\n",
              "  }\n",
              "\n",
              "  [theme=dark] .colab-df-quickchart {\n",
              "      --bg-color: #3B4455;\n",
              "      --fill-color: #D2E3FC;\n",
              "      --hover-bg-color: #434B5C;\n",
              "      --hover-fill-color: #FFFFFF;\n",
              "      --disabled-bg-color: #3B4455;\n",
              "      --disabled-fill-color: #666;\n",
              "  }\n",
              "\n",
              "  .colab-df-quickchart {\n",
              "    background-color: var(--bg-color);\n",
              "    border: none;\n",
              "    border-radius: 50%;\n",
              "    cursor: pointer;\n",
              "    display: none;\n",
              "    fill: var(--fill-color);\n",
              "    height: 32px;\n",
              "    padding: 0;\n",
              "    width: 32px;\n",
              "  }\n",
              "\n",
              "  .colab-df-quickchart:hover {\n",
              "    background-color: var(--hover-bg-color);\n",
              "    box-shadow: 0 1px 2px rgba(60, 64, 67, 0.3), 0 1px 3px 1px rgba(60, 64, 67, 0.15);\n",
              "    fill: var(--button-hover-fill-color);\n",
              "  }\n",
              "\n",
              "  .colab-df-quickchart-complete:disabled,\n",
              "  .colab-df-quickchart-complete:disabled:hover {\n",
              "    background-color: var(--disabled-bg-color);\n",
              "    fill: var(--disabled-fill-color);\n",
              "    box-shadow: none;\n",
              "  }\n",
              "\n",
              "  .colab-df-spinner {\n",
              "    border: 2px solid var(--fill-color);\n",
              "    border-color: transparent;\n",
              "    border-bottom-color: var(--fill-color);\n",
              "    animation:\n",
              "      spin 1s steps(1) infinite;\n",
              "  }\n",
              "\n",
              "  @keyframes spin {\n",
              "    0% {\n",
              "      border-color: transparent;\n",
              "      border-bottom-color: var(--fill-color);\n",
              "      border-left-color: var(--fill-color);\n",
              "    }\n",
              "    20% {\n",
              "      border-color: transparent;\n",
              "      border-left-color: var(--fill-color);\n",
              "      border-top-color: var(--fill-color);\n",
              "    }\n",
              "    30% {\n",
              "      border-color: transparent;\n",
              "      border-left-color: var(--fill-color);\n",
              "      border-top-color: var(--fill-color);\n",
              "      border-right-color: var(--fill-color);\n",
              "    }\n",
              "    40% {\n",
              "      border-color: transparent;\n",
              "      border-right-color: var(--fill-color);\n",
              "      border-top-color: var(--fill-color);\n",
              "    }\n",
              "    60% {\n",
              "      border-color: transparent;\n",
              "      border-right-color: var(--fill-color);\n",
              "    }\n",
              "    80% {\n",
              "      border-color: transparent;\n",
              "      border-right-color: var(--fill-color);\n",
              "      border-bottom-color: var(--fill-color);\n",
              "    }\n",
              "    90% {\n",
              "      border-color: transparent;\n",
              "      border-bottom-color: var(--fill-color);\n",
              "    }\n",
              "  }\n",
              "</style>\n",
              "\n",
              "  <script>\n",
              "    async function quickchart(key) {\n",
              "      const quickchartButtonEl =\n",
              "        document.querySelector('#' + key + ' button');\n",
              "      quickchartButtonEl.disabled = true;  // To prevent multiple clicks.\n",
              "      quickchartButtonEl.classList.add('colab-df-spinner');\n",
              "      try {\n",
              "        const charts = await google.colab.kernel.invokeFunction(\n",
              "            'suggestCharts', [key], {});\n",
              "      } catch (error) {\n",
              "        console.error('Error during call to suggestCharts:', error);\n",
              "      }\n",
              "      quickchartButtonEl.classList.remove('colab-df-spinner');\n",
              "      quickchartButtonEl.classList.add('colab-df-quickchart-complete');\n",
              "    }\n",
              "    (() => {\n",
              "      let quickchartButtonEl =\n",
              "        document.querySelector('#df-fb98d46d-f11a-4c9c-a165-b95c3a51869e button');\n",
              "      quickchartButtonEl.style.display =\n",
              "        google.colab.kernel.accessAllowed ? 'block' : 'none';\n",
              "    })();\n",
              "  </script>\n",
              "</div>\n",
              "\n",
              "    </div>\n",
              "  </div>\n"
            ],
            "application/vnd.google.colaboratory.intrinsic+json": {
              "type": "dataframe",
              "variable_name": "pd_data",
              "summary": "{\n  \"name\": \"pd_data\",\n  \"rows\": 2000,\n  \"fields\": [\n    {\n      \"column\": \"filename\",\n      \"properties\": {\n        \"dtype\": \"string\",\n        \"num_unique_values\": 2000,\n        \"samples\": [\n          \"5-221950-A-22.wav\",\n          \"1-79220-A-17.wav\",\n          \"4-165845-A-45.wav\"\n        ],\n        \"semantic_type\": \"\",\n        \"description\": \"\"\n      }\n    },\n    {\n      \"column\": \"fold\",\n      \"properties\": {\n        \"dtype\": \"number\",\n        \"std\": 1,\n        \"min\": 1,\n        \"max\": 5,\n        \"num_unique_values\": 5,\n        \"samples\": [\n          2,\n          5,\n          3\n        ],\n        \"semantic_type\": \"\",\n        \"description\": \"\"\n      }\n    },\n    {\n      \"column\": \"target\",\n      \"properties\": {\n        \"dtype\": \"number\",\n        \"std\": 14,\n        \"min\": 0,\n        \"max\": 49,\n        \"num_unique_values\": 50,\n        \"samples\": [\n          45,\n          18,\n          26\n        ],\n        \"semantic_type\": \"\",\n        \"description\": \"\"\n      }\n    },\n    {\n      \"column\": \"category\",\n      \"properties\": {\n        \"dtype\": \"category\",\n        \"num_unique_values\": 50,\n        \"samples\": [\n          \"train\",\n          \"toilet_flush\",\n          \"laughing\"\n        ],\n        \"semantic_type\": \"\",\n        \"description\": \"\"\n      }\n    },\n    {\n      \"column\": \"esc10\",\n      \"properties\": {\n        \"dtype\": \"boolean\",\n        \"num_unique_values\": 2,\n        \"samples\": [\n          false,\n          true\n        ],\n        \"semantic_type\": \"\",\n        \"description\": \"\"\n      }\n    },\n    {\n      \"column\": \"src_file\",\n      \"properties\": {\n        \"dtype\": \"number\",\n        \"std\": 64882,\n        \"min\": 137,\n        \"max\": 264453,\n        \"num_unique_values\": 1524,\n        \"samples\": [\n          155130,\n          21935\n        ],\n        \"semantic_type\": \"\",\n        \"description\": \"\"\n      }\n    },\n    {\n      \"column\": \"take\",\n      \"properties\": {\n        \"dtype\": \"category\",\n        \"num_unique_values\": 8,\n        \"samples\": [\n          \"B\",\n          \"F\"\n        ],\n        \"semantic_type\": \"\",\n        \"description\": \"\"\n      }\n    }\n  ]\n}"
            }
          },
          "metadata": {},
          "execution_count": 162
        }
      ],
      "source": [
        "esc50_csv = './datasets/ESC-50-master/meta/esc50.csv'\n",
        "base_data_path = './datasets/ESC-50-master/audio/'\n",
        "\n",
        "pd_data = pd.read_csv(esc50_csv)\n",
        "pd_data.head()"
      ]
    },
    {
      "cell_type": "markdown",
      "metadata": {
        "id": "7d4rHBEQ2QAU"
      },
      "source": [
        "### 데이터 필터링\n",
        "\n",
        "이제 데이터가 `DataFrame`에 저장되었으므로 몇 가지 변환을 적용합니다.\n",
        "\n",
        "- 행을 필터링하고 선택한 클래스(`dog` 및 `cat`)만 사용합니다. 다른 클래스를 사용하려면 여기에서 선택할 수 있습니다.\n",
        "- 전체 경로를 갖도록 파일 이름을 수정합니다. 이렇게 하면 나중에 더 쉽게 로드할 수 있습니다.\n",
        "- 대상을 특정 범위 내로 변경합니다. 이 예에서 `dog`는 `0`으로 유지되지만 `cat`은 원래 값 `5` 대신 `1`이 됩니다."
      ]
    },
    {
      "cell_type": "code",
      "execution_count": 163,
      "metadata": {
        "id": "tFnEoQjgs14I",
        "colab": {
          "base_uri": "https://localhost:8080/",
          "height": 363
        },
        "outputId": "74ebaff9-f261-42be-8d59-3e963ca34416"
      },
      "outputs": [
        {
          "output_type": "execute_result",
          "data": {
            "text/plain": [
              "                                             filename  fold  target  category  \\\n",
              "28   ./datasets/ESC-50-master/audio/1-119125-A-45.wav     1       2     train   \n",
              "53    ./datasets/ESC-50-master/audio/1-17124-A-43.wav     1       0  car_horn   \n",
              "74    ./datasets/ESC-50-master/audio/1-18527-A-44.wav     1       1    engine   \n",
              "75    ./datasets/ESC-50-master/audio/1-18527-B-44.wav     1       1    engine   \n",
              "83    ./datasets/ESC-50-master/audio/1-19026-A-43.wav     1       0  car_horn   \n",
              "116   ./datasets/ESC-50-master/audio/1-22882-A-44.wav     1       1    engine   \n",
              "124   ./datasets/ESC-50-master/audio/1-24074-A-43.wav     1       0  car_horn   \n",
              "125   ./datasets/ESC-50-master/audio/1-24076-A-43.wav     1       0  car_horn   \n",
              "130  ./datasets/ESC-50-master/audio/1-254507-A-43.wav     1       0  car_horn   \n",
              "137   ./datasets/ESC-50-master/audio/1-26176-A-43.wav     1       0  car_horn   \n",
              "\n",
              "     esc10  src_file take  \n",
              "28   False    119125    A  \n",
              "53   False     17124    A  \n",
              "74   False     18527    A  \n",
              "75   False     18527    B  \n",
              "83   False     19026    A  \n",
              "116  False     22882    A  \n",
              "124  False     24074    A  \n",
              "125  False     24076    A  \n",
              "130  False    254507    A  \n",
              "137  False     26176    A  "
            ],
            "text/html": [
              "\n",
              "  <div id=\"df-2c57e8e9-3a7e-49ca-813f-6aa61c23f82b\" class=\"colab-df-container\">\n",
              "    <div>\n",
              "<style scoped>\n",
              "    .dataframe tbody tr th:only-of-type {\n",
              "        vertical-align: middle;\n",
              "    }\n",
              "\n",
              "    .dataframe tbody tr th {\n",
              "        vertical-align: top;\n",
              "    }\n",
              "\n",
              "    .dataframe thead th {\n",
              "        text-align: right;\n",
              "    }\n",
              "</style>\n",
              "<table border=\"1\" class=\"dataframe\">\n",
              "  <thead>\n",
              "    <tr style=\"text-align: right;\">\n",
              "      <th></th>\n",
              "      <th>filename</th>\n",
              "      <th>fold</th>\n",
              "      <th>target</th>\n",
              "      <th>category</th>\n",
              "      <th>esc10</th>\n",
              "      <th>src_file</th>\n",
              "      <th>take</th>\n",
              "    </tr>\n",
              "  </thead>\n",
              "  <tbody>\n",
              "    <tr>\n",
              "      <th>28</th>\n",
              "      <td>./datasets/ESC-50-master/audio/1-119125-A-45.wav</td>\n",
              "      <td>1</td>\n",
              "      <td>2</td>\n",
              "      <td>train</td>\n",
              "      <td>False</td>\n",
              "      <td>119125</td>\n",
              "      <td>A</td>\n",
              "    </tr>\n",
              "    <tr>\n",
              "      <th>53</th>\n",
              "      <td>./datasets/ESC-50-master/audio/1-17124-A-43.wav</td>\n",
              "      <td>1</td>\n",
              "      <td>0</td>\n",
              "      <td>car_horn</td>\n",
              "      <td>False</td>\n",
              "      <td>17124</td>\n",
              "      <td>A</td>\n",
              "    </tr>\n",
              "    <tr>\n",
              "      <th>74</th>\n",
              "      <td>./datasets/ESC-50-master/audio/1-18527-A-44.wav</td>\n",
              "      <td>1</td>\n",
              "      <td>1</td>\n",
              "      <td>engine</td>\n",
              "      <td>False</td>\n",
              "      <td>18527</td>\n",
              "      <td>A</td>\n",
              "    </tr>\n",
              "    <tr>\n",
              "      <th>75</th>\n",
              "      <td>./datasets/ESC-50-master/audio/1-18527-B-44.wav</td>\n",
              "      <td>1</td>\n",
              "      <td>1</td>\n",
              "      <td>engine</td>\n",
              "      <td>False</td>\n",
              "      <td>18527</td>\n",
              "      <td>B</td>\n",
              "    </tr>\n",
              "    <tr>\n",
              "      <th>83</th>\n",
              "      <td>./datasets/ESC-50-master/audio/1-19026-A-43.wav</td>\n",
              "      <td>1</td>\n",
              "      <td>0</td>\n",
              "      <td>car_horn</td>\n",
              "      <td>False</td>\n",
              "      <td>19026</td>\n",
              "      <td>A</td>\n",
              "    </tr>\n",
              "    <tr>\n",
              "      <th>116</th>\n",
              "      <td>./datasets/ESC-50-master/audio/1-22882-A-44.wav</td>\n",
              "      <td>1</td>\n",
              "      <td>1</td>\n",
              "      <td>engine</td>\n",
              "      <td>False</td>\n",
              "      <td>22882</td>\n",
              "      <td>A</td>\n",
              "    </tr>\n",
              "    <tr>\n",
              "      <th>124</th>\n",
              "      <td>./datasets/ESC-50-master/audio/1-24074-A-43.wav</td>\n",
              "      <td>1</td>\n",
              "      <td>0</td>\n",
              "      <td>car_horn</td>\n",
              "      <td>False</td>\n",
              "      <td>24074</td>\n",
              "      <td>A</td>\n",
              "    </tr>\n",
              "    <tr>\n",
              "      <th>125</th>\n",
              "      <td>./datasets/ESC-50-master/audio/1-24076-A-43.wav</td>\n",
              "      <td>1</td>\n",
              "      <td>0</td>\n",
              "      <td>car_horn</td>\n",
              "      <td>False</td>\n",
              "      <td>24076</td>\n",
              "      <td>A</td>\n",
              "    </tr>\n",
              "    <tr>\n",
              "      <th>130</th>\n",
              "      <td>./datasets/ESC-50-master/audio/1-254507-A-43.wav</td>\n",
              "      <td>1</td>\n",
              "      <td>0</td>\n",
              "      <td>car_horn</td>\n",
              "      <td>False</td>\n",
              "      <td>254507</td>\n",
              "      <td>A</td>\n",
              "    </tr>\n",
              "    <tr>\n",
              "      <th>137</th>\n",
              "      <td>./datasets/ESC-50-master/audio/1-26176-A-43.wav</td>\n",
              "      <td>1</td>\n",
              "      <td>0</td>\n",
              "      <td>car_horn</td>\n",
              "      <td>False</td>\n",
              "      <td>26176</td>\n",
              "      <td>A</td>\n",
              "    </tr>\n",
              "  </tbody>\n",
              "</table>\n",
              "</div>\n",
              "    <div class=\"colab-df-buttons\">\n",
              "\n",
              "  <div class=\"colab-df-container\">\n",
              "    <button class=\"colab-df-convert\" onclick=\"convertToInteractive('df-2c57e8e9-3a7e-49ca-813f-6aa61c23f82b')\"\n",
              "            title=\"Convert this dataframe to an interactive table.\"\n",
              "            style=\"display:none;\">\n",
              "\n",
              "  <svg xmlns=\"http://www.w3.org/2000/svg\" height=\"24px\" viewBox=\"0 -960 960 960\">\n",
              "    <path d=\"M120-120v-720h720v720H120Zm60-500h600v-160H180v160Zm220 220h160v-160H400v160Zm0 220h160v-160H400v160ZM180-400h160v-160H180v160Zm440 0h160v-160H620v160ZM180-180h160v-160H180v160Zm440 0h160v-160H620v160Z\"/>\n",
              "  </svg>\n",
              "    </button>\n",
              "\n",
              "  <style>\n",
              "    .colab-df-container {\n",
              "      display:flex;\n",
              "      gap: 12px;\n",
              "    }\n",
              "\n",
              "    .colab-df-convert {\n",
              "      background-color: #E8F0FE;\n",
              "      border: none;\n",
              "      border-radius: 50%;\n",
              "      cursor: pointer;\n",
              "      display: none;\n",
              "      fill: #1967D2;\n",
              "      height: 32px;\n",
              "      padding: 0 0 0 0;\n",
              "      width: 32px;\n",
              "    }\n",
              "\n",
              "    .colab-df-convert:hover {\n",
              "      background-color: #E2EBFA;\n",
              "      box-shadow: 0px 1px 2px rgba(60, 64, 67, 0.3), 0px 1px 3px 1px rgba(60, 64, 67, 0.15);\n",
              "      fill: #174EA6;\n",
              "    }\n",
              "\n",
              "    .colab-df-buttons div {\n",
              "      margin-bottom: 4px;\n",
              "    }\n",
              "\n",
              "    [theme=dark] .colab-df-convert {\n",
              "      background-color: #3B4455;\n",
              "      fill: #D2E3FC;\n",
              "    }\n",
              "\n",
              "    [theme=dark] .colab-df-convert:hover {\n",
              "      background-color: #434B5C;\n",
              "      box-shadow: 0px 1px 3px 1px rgba(0, 0, 0, 0.15);\n",
              "      filter: drop-shadow(0px 1px 2px rgba(0, 0, 0, 0.3));\n",
              "      fill: #FFFFFF;\n",
              "    }\n",
              "  </style>\n",
              "\n",
              "    <script>\n",
              "      const buttonEl =\n",
              "        document.querySelector('#df-2c57e8e9-3a7e-49ca-813f-6aa61c23f82b button.colab-df-convert');\n",
              "      buttonEl.style.display =\n",
              "        google.colab.kernel.accessAllowed ? 'block' : 'none';\n",
              "\n",
              "      async function convertToInteractive(key) {\n",
              "        const element = document.querySelector('#df-2c57e8e9-3a7e-49ca-813f-6aa61c23f82b');\n",
              "        const dataTable =\n",
              "          await google.colab.kernel.invokeFunction('convertToInteractive',\n",
              "                                                    [key], {});\n",
              "        if (!dataTable) return;\n",
              "\n",
              "        const docLinkHtml = 'Like what you see? Visit the ' +\n",
              "          '<a target=\"_blank\" href=https://colab.research.google.com/notebooks/data_table.ipynb>data table notebook</a>'\n",
              "          + ' to learn more about interactive tables.';\n",
              "        element.innerHTML = '';\n",
              "        dataTable['output_type'] = 'display_data';\n",
              "        await google.colab.output.renderOutput(dataTable, element);\n",
              "        const docLink = document.createElement('div');\n",
              "        docLink.innerHTML = docLinkHtml;\n",
              "        element.appendChild(docLink);\n",
              "      }\n",
              "    </script>\n",
              "  </div>\n",
              "\n",
              "\n",
              "<div id=\"df-8b8f986b-220a-4dcf-a8d0-99b06e3ed16b\">\n",
              "  <button class=\"colab-df-quickchart\" onclick=\"quickchart('df-8b8f986b-220a-4dcf-a8d0-99b06e3ed16b')\"\n",
              "            title=\"Suggest charts\"\n",
              "            style=\"display:none;\">\n",
              "\n",
              "<svg xmlns=\"http://www.w3.org/2000/svg\" height=\"24px\"viewBox=\"0 0 24 24\"\n",
              "     width=\"24px\">\n",
              "    <g>\n",
              "        <path d=\"M19 3H5c-1.1 0-2 .9-2 2v14c0 1.1.9 2 2 2h14c1.1 0 2-.9 2-2V5c0-1.1-.9-2-2-2zM9 17H7v-7h2v7zm4 0h-2V7h2v10zm4 0h-2v-4h2v4z\"/>\n",
              "    </g>\n",
              "</svg>\n",
              "  </button>\n",
              "\n",
              "<style>\n",
              "  .colab-df-quickchart {\n",
              "      --bg-color: #E8F0FE;\n",
              "      --fill-color: #1967D2;\n",
              "      --hover-bg-color: #E2EBFA;\n",
              "      --hover-fill-color: #174EA6;\n",
              "      --disabled-fill-color: #AAA;\n",
              "      --disabled-bg-color: #DDD;\n",
              "  }\n",
              "\n",
              "  [theme=dark] .colab-df-quickchart {\n",
              "      --bg-color: #3B4455;\n",
              "      --fill-color: #D2E3FC;\n",
              "      --hover-bg-color: #434B5C;\n",
              "      --hover-fill-color: #FFFFFF;\n",
              "      --disabled-bg-color: #3B4455;\n",
              "      --disabled-fill-color: #666;\n",
              "  }\n",
              "\n",
              "  .colab-df-quickchart {\n",
              "    background-color: var(--bg-color);\n",
              "    border: none;\n",
              "    border-radius: 50%;\n",
              "    cursor: pointer;\n",
              "    display: none;\n",
              "    fill: var(--fill-color);\n",
              "    height: 32px;\n",
              "    padding: 0;\n",
              "    width: 32px;\n",
              "  }\n",
              "\n",
              "  .colab-df-quickchart:hover {\n",
              "    background-color: var(--hover-bg-color);\n",
              "    box-shadow: 0 1px 2px rgba(60, 64, 67, 0.3), 0 1px 3px 1px rgba(60, 64, 67, 0.15);\n",
              "    fill: var(--button-hover-fill-color);\n",
              "  }\n",
              "\n",
              "  .colab-df-quickchart-complete:disabled,\n",
              "  .colab-df-quickchart-complete:disabled:hover {\n",
              "    background-color: var(--disabled-bg-color);\n",
              "    fill: var(--disabled-fill-color);\n",
              "    box-shadow: none;\n",
              "  }\n",
              "\n",
              "  .colab-df-spinner {\n",
              "    border: 2px solid var(--fill-color);\n",
              "    border-color: transparent;\n",
              "    border-bottom-color: var(--fill-color);\n",
              "    animation:\n",
              "      spin 1s steps(1) infinite;\n",
              "  }\n",
              "\n",
              "  @keyframes spin {\n",
              "    0% {\n",
              "      border-color: transparent;\n",
              "      border-bottom-color: var(--fill-color);\n",
              "      border-left-color: var(--fill-color);\n",
              "    }\n",
              "    20% {\n",
              "      border-color: transparent;\n",
              "      border-left-color: var(--fill-color);\n",
              "      border-top-color: var(--fill-color);\n",
              "    }\n",
              "    30% {\n",
              "      border-color: transparent;\n",
              "      border-left-color: var(--fill-color);\n",
              "      border-top-color: var(--fill-color);\n",
              "      border-right-color: var(--fill-color);\n",
              "    }\n",
              "    40% {\n",
              "      border-color: transparent;\n",
              "      border-right-color: var(--fill-color);\n",
              "      border-top-color: var(--fill-color);\n",
              "    }\n",
              "    60% {\n",
              "      border-color: transparent;\n",
              "      border-right-color: var(--fill-color);\n",
              "    }\n",
              "    80% {\n",
              "      border-color: transparent;\n",
              "      border-right-color: var(--fill-color);\n",
              "      border-bottom-color: var(--fill-color);\n",
              "    }\n",
              "    90% {\n",
              "      border-color: transparent;\n",
              "      border-bottom-color: var(--fill-color);\n",
              "    }\n",
              "  }\n",
              "</style>\n",
              "\n",
              "  <script>\n",
              "    async function quickchart(key) {\n",
              "      const quickchartButtonEl =\n",
              "        document.querySelector('#' + key + ' button');\n",
              "      quickchartButtonEl.disabled = true;  // To prevent multiple clicks.\n",
              "      quickchartButtonEl.classList.add('colab-df-spinner');\n",
              "      try {\n",
              "        const charts = await google.colab.kernel.invokeFunction(\n",
              "            'suggestCharts', [key], {});\n",
              "      } catch (error) {\n",
              "        console.error('Error during call to suggestCharts:', error);\n",
              "      }\n",
              "      quickchartButtonEl.classList.remove('colab-df-spinner');\n",
              "      quickchartButtonEl.classList.add('colab-df-quickchart-complete');\n",
              "    }\n",
              "    (() => {\n",
              "      let quickchartButtonEl =\n",
              "        document.querySelector('#df-8b8f986b-220a-4dcf-a8d0-99b06e3ed16b button');\n",
              "      quickchartButtonEl.style.display =\n",
              "        google.colab.kernel.accessAllowed ? 'block' : 'none';\n",
              "    })();\n",
              "  </script>\n",
              "</div>\n",
              "\n",
              "    </div>\n",
              "  </div>\n"
            ],
            "application/vnd.google.colaboratory.intrinsic+json": {
              "type": "dataframe",
              "variable_name": "filtered_pd",
              "summary": "{\n  \"name\": \"filtered_pd\",\n  \"rows\": 120,\n  \"fields\": [\n    {\n      \"column\": \"filename\",\n      \"properties\": {\n        \"dtype\": \"string\",\n        \"num_unique_values\": 120,\n        \"samples\": [\n          \"./datasets/ESC-50-master/audio/2-262579-A-45.wav\",\n          \"./datasets/ESC-50-master/audio/2-78651-A-44.wav\",\n          \"./datasets/ESC-50-master/audio/1-19026-A-43.wav\"\n        ],\n        \"semantic_type\": \"\",\n        \"description\": \"\"\n      }\n    },\n    {\n      \"column\": \"fold\",\n      \"properties\": {\n        \"dtype\": \"number\",\n        \"std\": 1,\n        \"min\": 1,\n        \"max\": 5,\n        \"num_unique_values\": 5,\n        \"samples\": [\n          2,\n          5,\n          3\n        ],\n        \"semantic_type\": \"\",\n        \"description\": \"\"\n      }\n    },\n    {\n      \"column\": \"target\",\n      \"properties\": {\n        \"dtype\": \"number\",\n        \"std\": 0,\n        \"min\": 0,\n        \"max\": 2,\n        \"num_unique_values\": 3,\n        \"samples\": [\n          2,\n          0,\n          1\n        ],\n        \"semantic_type\": \"\",\n        \"description\": \"\"\n      }\n    },\n    {\n      \"column\": \"category\",\n      \"properties\": {\n        \"dtype\": \"category\",\n        \"num_unique_values\": 3,\n        \"samples\": [\n          \"train\",\n          \"car_horn\",\n          \"engine\"\n        ],\n        \"semantic_type\": \"\",\n        \"description\": \"\"\n      }\n    },\n    {\n      \"column\": \"esc10\",\n      \"properties\": {\n        \"dtype\": \"boolean\",\n        \"num_unique_values\": 1,\n        \"samples\": [\n          false\n        ],\n        \"semantic_type\": \"\",\n        \"description\": \"\"\n      }\n    },\n    {\n      \"column\": \"src_file\",\n      \"properties\": {\n        \"dtype\": \"number\",\n        \"std\": 61210,\n        \"min\": 17124,\n        \"max\": 262579,\n        \"num_unique_values\": 99,\n        \"samples\": [\n          165933\n        ],\n        \"semantic_type\": \"\",\n        \"description\": \"\"\n      }\n    },\n    {\n      \"column\": \"take\",\n      \"properties\": {\n        \"dtype\": \"category\",\n        \"num_unique_values\": 3,\n        \"samples\": [\n          \"A\"\n        ],\n        \"semantic_type\": \"\",\n        \"description\": \"\"\n      }\n    }\n  ]\n}"
            }
          },
          "metadata": {},
          "execution_count": 163
        }
      ],
      "source": [
        "my_classes = ['car_horn', 'engine', 'train']\n",
        "map_class_to_id = {'car_horn':0, 'engine':1, 'train':2}\n",
        "\n",
        "filtered_pd = pd_data[pd_data.category.isin(my_classes)]\n",
        "\n",
        "class_id = filtered_pd['category'].apply(lambda name: map_class_to_id[name])\n",
        "filtered_pd = filtered_pd.assign(target=class_id)\n",
        "\n",
        "full_path = filtered_pd['filename'].apply(lambda row: os.path.join(base_data_path, row))\n",
        "filtered_pd = filtered_pd.assign(filename=full_path)\n",
        "\n",
        "filtered_pd.head(10)"
      ]
    },
    {
      "cell_type": "code",
      "source": [],
      "metadata": {
        "id": "pBc2Bf5PCcLn"
      },
      "execution_count": 163,
      "outputs": []
    },
    {
      "cell_type": "markdown",
      "metadata": {
        "id": "BkDcBS-aJdCz"
      },
      "source": [
        "### 오디오 파일 로드 및 임베딩 가져오기\n",
        "\n",
        "여기에서 `load_wav_16k_mono`를 적용하고 모델에 대한 WAV 데이터를 준비합니다.\n",
        "\n",
        "WAV 데이터에서 임베딩을 추출할 때 형상의 배열 `(N, 1024)`을 가져옵니다. 여기서 `N`은 YAMNet이 찾은 프레임 수입니다(오디오 0.48초마다 하나씩)."
      ]
    },
    {
      "cell_type": "markdown",
      "metadata": {
        "id": "AKDT5RomaDKO"
      },
      "source": [
        "모델은 각 프레임을 하나의 입력으로 사용합니다. 따라서 행당 하나의 프레임이 있는 새 열을 만들어야 합니다. 또한 이러한 새 행을 적절하게 반영하려면 레이블과 `fold` 열을 확장해야 합니다.\n",
        "\n",
        "확장된 `fold` 열은 원래 값을 유지합니다. 분할을 수행할 때 서로 다른 분할에 동일한 오디오의 일부가 있게 되어 유효성 검사 및 테스트 단계의 효율성이 떨어질 수 있으므로 프레임을 혼합할 수 없습니다."
      ]
    },
    {
      "cell_type": "code",
      "execution_count": 164,
      "metadata": {
        "id": "u5Rq3_PyKLtU",
        "colab": {
          "base_uri": "https://localhost:8080/"
        },
        "outputId": "c011c41b-1f45-488b-b77d-2d538cc0a20e"
      },
      "outputs": [
        {
          "output_type": "execute_result",
          "data": {
            "text/plain": [
              "(TensorSpec(shape=(), dtype=tf.string, name=None),\n",
              " TensorSpec(shape=(), dtype=tf.int64, name=None),\n",
              " TensorSpec(shape=(), dtype=tf.int64, name=None))"
            ]
          },
          "metadata": {},
          "execution_count": 164
        }
      ],
      "source": [
        "filenames = filtered_pd['filename']\n",
        "targets = filtered_pd['target']\n",
        "folds = filtered_pd['fold']\n",
        "\n",
        "main_ds = tf.data.Dataset.from_tensor_slices((filenames, targets, folds))\n",
        "main_ds.element_spec"
      ]
    },
    {
      "cell_type": "code",
      "execution_count": 165,
      "metadata": {
        "id": "rsEfovDVAHGY",
        "colab": {
          "base_uri": "https://localhost:8080/"
        },
        "outputId": "00381533-c3ea-4205-c937-0f60b9b96f3d"
      },
      "outputs": [
        {
          "output_type": "stream",
          "name": "stderr",
          "text": [
            "WARNING:tensorflow:Using a while_loop for converting IO>AudioResample cause there is no registered converter for this op.\n"
          ]
        },
        {
          "output_type": "execute_result",
          "data": {
            "text/plain": [
              "(TensorSpec(shape=<unknown>, dtype=tf.float32, name=None),\n",
              " TensorSpec(shape=(), dtype=tf.int64, name=None),\n",
              " TensorSpec(shape=(), dtype=tf.int64, name=None))"
            ]
          },
          "metadata": {},
          "execution_count": 165
        }
      ],
      "source": [
        "def load_wav_for_map(filename, label, fold):\n",
        "  return load_wav_16k_mono(filename), label, fold\n",
        "\n",
        "main_ds = main_ds.map(load_wav_for_map)\n",
        "main_ds.element_spec"
      ]
    },
    {
      "cell_type": "code",
      "execution_count": 166,
      "metadata": {
        "id": "k0tG8DBNAHcE",
        "colab": {
          "base_uri": "https://localhost:8080/"
        },
        "outputId": "dbb621dc-9535-45ff-9732-6cf045a62b9c"
      },
      "outputs": [
        {
          "output_type": "execute_result",
          "data": {
            "text/plain": [
              "(TensorSpec(shape=(1024,), dtype=tf.float32, name=None),\n",
              " TensorSpec(shape=(), dtype=tf.int64, name=None),\n",
              " TensorSpec(shape=(), dtype=tf.int64, name=None))"
            ]
          },
          "metadata": {},
          "execution_count": 166
        }
      ],
      "source": [
        "# applies the embedding extraction model to a wav data\n",
        "def extract_embedding(wav_data, label, fold):\n",
        "  ''' run YAMNet to extract embedding from the wav data '''\n",
        "  scores, embeddings, spectrogram = yamnet_model(wav_data)\n",
        "  num_embeddings = tf.shape(embeddings)[0]\n",
        "  return (embeddings,\n",
        "            tf.repeat(label, num_embeddings),\n",
        "            tf.repeat(fold, num_embeddings))\n",
        "\n",
        "# extract embedding\n",
        "main_ds = main_ds.map(extract_embedding).unbatch()\n",
        "main_ds.element_spec"
      ]
    },
    {
      "cell_type": "markdown",
      "metadata": {
        "id": "ZdfPIeD0Qedk"
      },
      "source": [
        "### 데이터 분할\n",
        "\n",
        "`fold` 열을 사용하여 데이터세트를 학습, 유효성 검증 및 테스트세트로 분할합니다.\n",
        "\n",
        "ESC-50은 5개의 균일한 크기의 교차 유효성 검증 `fold`로 배열되어 동일한 원본 소스의 클립이 항상 동일한 `fold`에 있도록 합니다. 자세한 내용은 [ESC: Dataset for Environmental Sound Classification](https://www.karolpiczak.com/papers/Piczak2015-ESC-Dataset.pdf) 문서를 참조하세요.\n",
        "\n",
        "마지막 단계는 훈련 중에 사용하지 않을 것이므로 데이터세트에서 `fold` 열을 제거하는 것입니다.\n"
      ]
    },
    {
      "cell_type": "code",
      "execution_count": 167,
      "metadata": {
        "id": "1ZYvlFiVsffC"
      },
      "outputs": [],
      "source": [
        "cached_ds = main_ds.cache()\n",
        "train_ds = cached_ds.filter(lambda embedding, label, fold: fold < 4)\n",
        "val_ds = cached_ds.filter(lambda embedding, label, fold: fold == 4)\n",
        "test_ds = cached_ds.filter(lambda embedding, label, fold: fold == 5)\n",
        "\n",
        "# remove the folds column now that it's not needed anymore\n",
        "remove_fold_column = lambda embedding, label, fold: (embedding, label)\n",
        "\n",
        "train_ds = train_ds.map(remove_fold_column)\n",
        "val_ds = val_ds.map(remove_fold_column)\n",
        "test_ds = test_ds.map(remove_fold_column)\n",
        "\n",
        "train_ds = train_ds.cache().shuffle(1000).batch(32).prefetch(tf.data.AUTOTUNE)\n",
        "val_ds = val_ds.cache().batch(32).prefetch(tf.data.AUTOTUNE)\n",
        "test_ds = test_ds.cache().batch(32).prefetch(tf.data.AUTOTUNE)"
      ]
    },
    {
      "cell_type": "markdown",
      "metadata": {
        "id": "v5PaMwvtcAIe"
      },
      "source": [
        "## 모델 생성하기\n",
        "\n",
        "대부분의 작업이 끝났습니다! 다음으로, 하나의 숨겨진 레이어와 두 개의 출력을 사용하여 소리에서 고양이와 개를 인식하는 매우 간단한 [순차](https://www.tensorflow.org/guide/keras/sequential_model) 모델을 정의합니다.\n"
      ]
    },
    {
      "cell_type": "code",
      "execution_count": 168,
      "metadata": {
        "id": "JYCE0Fr1GpN3",
        "colab": {
          "base_uri": "https://localhost:8080/"
        },
        "outputId": "1aa13966-1c20-4d10-9ca7-a6836e09fd6e"
      },
      "outputs": [
        {
          "output_type": "stream",
          "name": "stdout",
          "text": [
            "Model: \"my_model\"\n",
            "_________________________________________________________________\n",
            " Layer (type)                Output Shape              Param #   \n",
            "=================================================================\n",
            " dense_12 (Dense)            (None, 512)               524800    \n",
            "                                                                 \n",
            " dense_13 (Dense)            (None, 3)                 1539      \n",
            "                                                                 \n",
            "=================================================================\n",
            "Total params: 526,339\n",
            "Trainable params: 526,339\n",
            "Non-trainable params: 0\n",
            "_________________________________________________________________\n"
          ]
        }
      ],
      "source": [
        "my_model = tf.keras.Sequential([\n",
        "    tf.keras.layers.Input(shape=(1024), dtype=tf.float32,\n",
        "                          name='input_embedding'),\n",
        "    tf.keras.layers.Dense(512, activation='relu'),\n",
        "    tf.keras.layers.Dense(len(my_classes))\n",
        "], name='my_model')\n",
        "\n",
        "my_model.summary()"
      ]
    },
    {
      "cell_type": "code",
      "execution_count": 169,
      "metadata": {
        "id": "l1qgH35HY0SE"
      },
      "outputs": [],
      "source": [
        "my_model.compile(loss=tf.keras.losses.SparseCategoricalCrossentropy(from_logits=True),\n",
        "                 optimizer=\"adam\",\n",
        "                 metrics=['accuracy'])\n",
        "\n",
        "callback = tf.keras.callbacks.EarlyStopping(monitor='loss',\n",
        "                                            patience=3,\n",
        "                                            restore_best_weights=True)"
      ]
    },
    {
      "cell_type": "code",
      "execution_count": 170,
      "metadata": {
        "id": "T3sj84eOZ3pk",
        "colab": {
          "base_uri": "https://localhost:8080/"
        },
        "outputId": "4e68e4e9-874f-4c2a-c443-3b279fe5fca4"
      },
      "outputs": [
        {
          "output_type": "stream",
          "name": "stdout",
          "text": [
            "Epoch 1/20\n",
            "23/23 [==============================] - 18s 19ms/step - loss: 0.5157 - accuracy: 0.8514 - val_loss: 0.2804 - val_accuracy: 0.9083\n",
            "Epoch 2/20\n",
            "23/23 [==============================] - 0s 6ms/step - loss: 0.2412 - accuracy: 0.9389 - val_loss: 0.1730 - val_accuracy: 0.9083\n",
            "Epoch 3/20\n",
            "23/23 [==============================] - 0s 6ms/step - loss: 0.2868 - accuracy: 0.9431 - val_loss: 0.3690 - val_accuracy: 0.9250\n",
            "Epoch 4/20\n",
            "23/23 [==============================] - 0s 7ms/step - loss: 0.2426 - accuracy: 0.9583 - val_loss: 0.9812 - val_accuracy: 0.9250\n",
            "Epoch 5/20\n",
            "23/23 [==============================] - 0s 7ms/step - loss: 0.2242 - accuracy: 0.9667 - val_loss: 0.5358 - val_accuracy: 0.9125\n",
            "Epoch 6/20\n",
            "23/23 [==============================] - 0s 6ms/step - loss: 0.0984 - accuracy: 0.9806 - val_loss: 0.2004 - val_accuracy: 0.8875\n",
            "Epoch 7/20\n",
            "23/23 [==============================] - 0s 6ms/step - loss: 0.1430 - accuracy: 0.9778 - val_loss: 0.5622 - val_accuracy: 0.9042\n",
            "Epoch 8/20\n",
            "23/23 [==============================] - 0s 7ms/step - loss: 0.0996 - accuracy: 0.9792 - val_loss: 0.5017 - val_accuracy: 0.9000\n",
            "Epoch 9/20\n",
            "23/23 [==============================] - 0s 7ms/step - loss: 0.1578 - accuracy: 0.9792 - val_loss: 0.5473 - val_accuracy: 0.9000\n"
          ]
        }
      ],
      "source": [
        "history = my_model.fit(train_ds,\n",
        "                       epochs=20,\n",
        "                       validation_data=val_ds,\n",
        "                       callbacks=callback)"
      ]
    },
    {
      "cell_type": "markdown",
      "metadata": {
        "id": "OAbraYKYpdoE"
      },
      "source": [
        "과적합이 없는지 확인하기 위해 테스트 데이터에 대해 `evaluate` 메서드를 실행해 보겠습니다."
      ]
    },
    {
      "cell_type": "code",
      "execution_count": 171,
      "metadata": {
        "id": "H4Nh5nec3Sky",
        "colab": {
          "base_uri": "https://localhost:8080/"
        },
        "outputId": "79dc0a61-e4c6-44d0-ad50-1af09dd28608"
      },
      "outputs": [
        {
          "output_type": "stream",
          "name": "stdout",
          "text": [
            "8/8 [==============================] - 0s 5ms/step - loss: 0.1229 - accuracy: 0.9833\n",
            "Loss:  0.12292487174272537\n",
            "Accuracy:  0.9833333492279053\n"
          ]
        }
      ],
      "source": [
        "loss, accuracy = my_model.evaluate(test_ds)\n",
        "\n",
        "print(\"Loss: \", loss)\n",
        "print(\"Accuracy: \", accuracy)"
      ]
    },
    {
      "cell_type": "markdown",
      "metadata": {
        "id": "cid-qIrIpqHS"
      },
      "source": [
        "훌륭합니다!"
      ]
    },
    {
      "cell_type": "markdown",
      "metadata": {
        "id": "nCKZonrJcXab"
      },
      "source": [
        "## 모델 테스트하기\n",
        "\n",
        "다음으로, YAMNet만 사용하여 이전 테스트의 임베딩에 대해 모델을 시도합니다.\n"
      ]
    },
    {
      "cell_type": "code",
      "execution_count": 172,
      "metadata": {
        "id": "79AFpA3_ctCF",
        "colab": {
          "base_uri": "https://localhost:8080/"
        },
        "outputId": "a75b69ff-3028-4ca7-9b07-a4545c9c8181"
      },
      "outputs": [
        {
          "output_type": "stream",
          "name": "stdout",
          "text": [
            "The main sound is: car_horn\n"
          ]
        }
      ],
      "source": [
        "scores, embeddings, spectrogram = yamnet_model(testing_wav_data)\n",
        "result = my_model(embeddings).numpy()\n",
        "\n",
        "inferred_class = my_classes[result.mean(axis=0).argmax()]\n",
        "print(f'The main sound is: {inferred_class}')"
      ]
    },
    {
      "cell_type": "markdown",
      "metadata": {
        "id": "k2yleeev645r"
      },
      "source": [
        "## WAV 파일을 직접 입력으로 받을 수 있는 모델 저장하기\n",
        "\n",
        "임베딩을 입력으로 제공하면 모델이 작동합니다.\n",
        "\n",
        "실제 시나리오에서는 오디오 데이터를 직접 입력으로 사용해야 할 것입니다.\n",
        "\n",
        "이렇게 하려면 YAMNet과 모델을 다른 애플리케이션을 위해 내보낼 수 있는 단일 모델로 결합합니다.\n",
        "\n",
        "모델의 결과를 더 쉽게 사용할 수 있도록 최종 레이어는 `reduce_mean` 연산이 됩니다. 제공을 위해 이 모델을 사용할 때(튜토리얼 뒷부분에서 알아볼 예정) 최종 레이어의 이름이 필요합니다. 이를 정의하지 않으면 TensorFlow가 증분시키면서 이름을 자동으로 지정하는데, 그러면 모델을 훈련할 때마다 이름이 계속 달라지므로 테스트하기가 어려워집니다. 원시 TensorFlow 작업을 사용할 때는 이름을 할당할 수 없습니다. 이 문제를 해결하기 위해 `reduce_mean`을 적용하고 `'classifier'`라고 부르는 사용자 지정 레이어를 생성합니다.\n"
      ]
    },
    {
      "cell_type": "code",
      "execution_count": 173,
      "metadata": {
        "id": "QUVCI2Suunpw"
      },
      "outputs": [],
      "source": [
        "class ReduceMeanLayer(tf.keras.layers.Layer):\n",
        "  def __init__(self, axis=0, **kwargs):\n",
        "    super(ReduceMeanLayer, self).__init__(**kwargs)\n",
        "    self.axis = axis\n",
        "\n",
        "  def call(self, input):\n",
        "    return tf.math.reduce_mean(input, axis=self.axis)"
      ]
    },
    {
      "cell_type": "code",
      "execution_count": 191,
      "metadata": {
        "id": "zE_Npm0nzlwc",
        "colab": {
          "base_uri": "https://localhost:8080/"
        },
        "outputId": "b1ea7545-ba4d-4a18-c006-9f42c7f0f450"
      },
      "outputs": [
        {
          "output_type": "stream",
          "name": "stderr",
          "text": [
            "WARNING:tensorflow:Compiled the loaded model, but the compiled metrics have yet to be built. `model.compile_metrics` will be empty until you train or evaluate the model.\n",
            "WARNING:absl:Found untraced functions such as _update_step_xla while saving (showing 1 of 1). These functions will not be directly callable after loading.\n"
          ]
        }
      ],
      "source": [
        "saved_model_path = './gist_aiot.model'\n",
        "\n",
        "input_segment = tf.keras.layers.Input(shape=(), dtype=tf.float32, name='audio')\n",
        "embedding_extraction_layer = hub.KerasLayer(yamnet_model_handle,\n",
        "                                            trainable=False, name='yamnet')\n",
        "_, embeddings_output, _ = embedding_extraction_layer(input_segment)\n",
        "serving_outputs = my_model(embeddings_output)\n",
        "serving_outputs = ReduceMeanLayer(axis=0, name='classifier')(serving_outputs)\n",
        "serving_model = tf.keras.Model(input_segment, serving_outputs)\n",
        "serving_model.save(saved_model_path, include_optimizer=False)"
      ]
    },
    {
      "cell_type": "code",
      "execution_count": 192,
      "metadata": {
        "id": "y-0bY5FMme1C",
        "colab": {
          "base_uri": "https://localhost:8080/",
          "height": 369
        },
        "outputId": "2f85c46b-e054-4cb9-b38d-06ad5c5c7f14"
      },
      "outputs": [
        {
          "output_type": "execute_result",
          "data": {
            "image/png": "[encoded data removed]",
            "text/plain": [
              "<IPython.core.display.Image object>"
            ]
          },
          "metadata": {},
          "execution_count": 192
        }
      ],
      "source": [
        "tf.keras.utils.plot_model(serving_model)"
      ]
    },
    {
      "cell_type": "markdown",
      "metadata": {
        "id": "btHQDN9mqxM_"
      },
      "source": [
        "저장된 모델을 로드하여 예상대로 작동하는지 확인합니다."
      ]
    },
    {
      "cell_type": "code",
      "execution_count": 193,
      "metadata": {
        "id": "KkYVpJS72WWB"
      },
      "outputs": [],
      "source": [
        "reloaded_model = tf.saved_model.load(saved_model_path)"
      ]
    },
    {
      "cell_type": "markdown",
      "metadata": {
        "id": "4BkmvvNzq49l"
      },
      "source": [
        "그리고 최종 테스트로... 일부 사운드 데이터가 주어지면 모델이 올바른 결과를 반환합니까?"
      ]
    },
    {
      "cell_type": "code",
      "execution_count": 177,
      "metadata": {
        "id": "xeXtD5HO28y-",
        "colab": {
          "base_uri": "https://localhost:8080/"
        },
        "outputId": "3ae9ed2f-f202-4c1a-f66a-a106bfe71e39"
      },
      "outputs": [
        {
          "output_type": "stream",
          "name": "stdout",
          "text": [
            "The main sound is: car_horn\n"
          ]
        }
      ],
      "source": [
        "reloaded_results = reloaded_model(testing_wav_data)\n",
        "cat_or_dog = my_classes[tf.math.argmax(reloaded_results)]\n",
        "print(f'The main sound is: {cat_or_dog}')"
      ]
    },
    {
      "cell_type": "markdown",
      "metadata": {
        "id": "ZRrOcBYTUgwn"
      },
      "source": [
        "서비스 제공 설정에서 새 모델을 시도하려면 'serving_default' 서명을 사용할 수 있습니다."
      ]
    },
    {
      "cell_type": "code",
      "execution_count": 178,
      "metadata": {
        "id": "ycC8zzDSUG2s",
        "colab": {
          "base_uri": "https://localhost:8080/"
        },
        "outputId": "964073f9-4e71-40c1-cab5-2b4530b1c6ca"
      },
      "outputs": [
        {
          "output_type": "stream",
          "name": "stdout",
          "text": [
            "The main sound is: car_horn\n"
          ]
        }
      ],
      "source": [
        "serving_results = reloaded_model.signatures['serving_default'](testing_wav_data)\n",
        "cat_or_dog = my_classes[tf.math.argmax(serving_results['classifier'])]\n",
        "print(f'The main sound is: {cat_or_dog}')\n"
      ]
    },
    {
      "cell_type": "markdown",
      "metadata": {
        "id": "da7blblCHs8c"
      },
      "source": [
        "## (선택 사항) 몇 가지 추가 테스트\n",
        "\n",
        "모델이 준비되었습니다.\n",
        "\n",
        "테스트 데이터세트에서 이를 YAMNet과 비교해 보겠습니다."
      ]
    },
    {
      "cell_type": "code",
      "execution_count": 189,
      "metadata": {
        "id": "vDf5MASIIN1z",
        "colab": {
          "base_uri": "https://localhost:8080/",
          "height": 542
        },
        "outputId": "d900ed7b-4a9b-480c-aa49-008004fa00cf"
      },
      "outputs": [
        {
          "output_type": "stream",
          "name": "stdout",
          "text": [
            "./datasets/ESC-50-master/audio/5-197121-A-45.wav\n",
            "Waveform values: [ 5.9590957e-07 -1.9300853e-06  4.5873176e-06 ...  2.0359118e-02\n",
            "  2.8787151e-02  3.8852930e-02]\n"
          ]
        },
        {
          "output_type": "execute_result",
          "data": {
            "text/plain": [
              "<IPython.lib.display.Audio object>"
            ],
            "text/html": [
              "\n",
              "                <audio  controls=\"controls\" >\n",
              "                    <source src=\"data:audio/wav;base64,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\" type=\"audio/wav\" />\n",
              "                    Your browser does not support the audio element.\n",
              "                </audio>\n",
              "              "
            ]
          },
          "metadata": {},
          "execution_count": 189
        },
        {
          "output_type": "display_data",
          "data": {
            "text/plain": [
              "<Figure size 640x480 with 1 Axes>"
            ],
            "image/png": "[encoded data removed]"
          },
          "metadata": {}
        }
      ],
      "source": [
        "test_pd = filtered_pd.loc[filtered_pd['fold'] == 5]\n",
        "row = test_pd.sample(1)\n",
        "filename = row['filename'].item()\n",
        "print(filename)\n",
        "waveform = load_wav_16k_mono('/content/converted_audio.wav')\n",
        "print(f'Waveform values: {waveform}')\n",
        "_ = plt.plot(waveform)\n",
        "\n",
        "display.Audio(waveform, rate=16000)"
      ]
    },
    {
      "cell_type": "code",
      "execution_count": 190,
      "metadata": {
        "id": "eYUzFxYJIcE1",
        "colab": {
          "base_uri": "https://localhost:8080/"
        },
        "outputId": "27709a58-59ce-4e5e-c6d7-9759917a754a"
      },
      "outputs": [
        {
          "output_type": "stream",
          "name": "stdout",
          "text": [
            "[YAMNet] The main sound is: Emergency vehicle (0.6098859906196594)\n",
            "[Your model] The main sound is: car_horn (0.9992486834526062)\n"
          ]
        }
      ],
      "source": [
        "# Run the model, check the output.\n",
        "scores, embeddings, spectrogram = yamnet_model(waveform)\n",
        "class_scores = tf.reduce_mean(scores, axis=0)\n",
        "top_class = tf.math.argmax(class_scores)\n",
        "inferred_class = class_names[top_class]\n",
        "top_score = class_scores[top_class]\n",
        "print(f'[YAMNet] The main sound is: {inferred_class} ({top_score})')\n",
        "\n",
        "reloaded_results = reloaded_model(waveform)\n",
        "your_top_class = tf.math.argmax(reloaded_results)\n",
        "your_inferred_class = my_classes[your_top_class]\n",
        "class_probabilities = tf.nn.softmax(reloaded_results, axis=-1)\n",
        "your_top_score = class_probabilities[your_top_class]\n",
        "print(f'[Your model] The main sound is: {your_inferred_class} ({your_top_score})')"
      ]
    },
    {
      "cell_type": "markdown",
      "metadata": {
        "id": "g8Tsym8Rq-0V"
      },
      "source": [
        "## 다음 단계\n",
        "\n",
        "개나 고양이의 소리를 분류할 수 있는 모델을 만들었습니다. 같은 아이디어와 다른 데이터세트를 사용하여 예를 들어, 새의 지저귐을 바탕으로 [새의 음향 식별자](https://www.kaggle.com/c/birdclef-2021/)를 구축해 볼 수 있습니다.\n",
        "\n",
        "소셜 미디어에서 TensorFlow 팀과 자신의 프로젝트를 공유하세요!\n"
      ]
    }
  ],
  "metadata": {
    "accelerator": "GPU",
    "colab": {
      "name": "transfer_learning_audio.ipynb",
      "provenance": []
    },
    "kernelspec": {
      "display_name": "Python 3",
      "name": "python3"
    }
  },
  "nbformat": 4,
  "nbformat_minor": 0
}